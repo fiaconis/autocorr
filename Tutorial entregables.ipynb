{
 "cells": [
  {
   "cell_type": "markdown",
   "metadata": {},
   "source": [
    "# <center> Tutorial para los entregables </center>"
   ]
  },
  {
   "cell_type": "markdown",
   "metadata": {},
   "source": [
    "A los alumnos se les dará un archivo \".py\" como el siguiente:\n",
    "\n",
    "    def problema_1(base,altura):\n",
    "        #Consigna: calcular el área de un triangulo\n",
    "    \n",
    "        # Aca debran escribir el codigo que cumpla con la consigna y \n",
    "        # la solución deberá estar en la variable \"area\"\n",
    "    \n",
    "        return(area)\n",
    "        \n",
    "    def problema_2(lado):\n",
    "        #Consigna: Calcular el area de un cuadrado\n",
    "        \n",
    "    return(area)\n",
    "    \n",
    "    def problema_3(edad):\n",
    "        #Consigna: decidir si una persona es mayor de edad o no devolviendo una variable booleana\n",
    "        \n",
    "    return(mayor) # Mayor será True si la edad es mayor o igual a 18.\n",
    "    \n",
    "    def problema_4(r,l):\n",
    "        #Consigna: decidir si un circulo de radio \"r\" entra dentro de un cuadrado de lado \"l\".\n",
    "    \n",
    "    return(entra) #entra es una variable que es True si el circulo entra en el cuadrado\n",
    "\n",
    "**_Importante:_** El archivo tiene que tener de nombre su nombre y apellido sin espacios pero con mayusculas y se puede agregar que al final tenga un \"_tp1.py\".\n",
    "Es importante que no se utilicen guiones medios o espacios. Por ejemplo \"MaríaAntonietaDeLasNieves_TP0.py\" es un nombre válido."
   ]
  },
  {
   "cell_type": "markdown",
   "metadata": {},
   "source": [
    "## Consejos\n",
    "1. Para resolver los problemas les recomiendo que resulvan los problemas en un borrador. Por ejemplo, para resolver el primer problema:"
   ]
  },
  {
   "cell_type": "code",
   "execution_count": 5,
   "metadata": {},
   "outputs": [
    {
     "name": "stdout",
     "output_type": "stream",
     "text": [
      "Ingrese el valor de la base: 3\n",
      "Ingrese el valor de la altura: 2\n",
      "El area del triangulo es:  3.0\n"
     ]
    }
   ],
   "source": [
    "# Primero ponemos los valores de entrada del algoritmo\n",
    "base = input('Ingrese el valor de la base: ')\n",
    "altura = input('Ingrese el valor de la altura: ')\n",
    "# Luego creo el codigo\n",
    "base_float = float(base) # Convierto el string que me devuelve el input a float para hacer cuentas\n",
    "altura_float = float(altura)\n",
    "area = (base_float*altura_float)/2\n",
    "# La solucion al problema es la variable area. Para verificar hacemos un print\n",
    "print('El area del triangulo es: ',area)"
   ]
  },
  {
   "cell_type": "markdown",
   "metadata": {},
   "source": [
    "Para completar el entregable tendran que convertir lo hecho de la siguiente manera:"
   ]
  },
  {
   "cell_type": "code",
   "execution_count": null,
   "metadata": {},
   "outputs": [],
   "source": [
    "def problema_1(base,altura):\n",
    "    #Consigna: calcular el área de un triangulo\n",
    "\n",
    "    base_float = float(base) # Convierto el string que me devuelve el input a float para hacer cuentas\n",
    "    altura_float = float(altura)\n",
    "    area = (base_float*altura_float)/2\n",
    "    # No hace falta poner un print (por favor, no poner prints)\n",
    "    return(area)\n"
   ]
  },
  {
   "cell_type": "markdown",
   "metadata": {},
   "source": [
    "Noten que la solución del problema tiene una indentación."
   ]
  }
 ],
 "metadata": {
  "kernelspec": {
   "display_name": "Python 3",
   "language": "python",
   "name": "python3"
  },
  "language_info": {
   "codemirror_mode": {
    "name": "ipython",
    "version": 3
   },
   "file_extension": ".py",
   "mimetype": "text/x-python",
   "name": "python",
   "nbconvert_exporter": "python",
   "pygments_lexer": "ipython3",
   "version": "3.8.4"
  }
 },
 "nbformat": 4,
 "nbformat_minor": 4
}
