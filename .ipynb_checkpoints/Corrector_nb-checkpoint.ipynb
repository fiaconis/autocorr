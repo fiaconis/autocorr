{
 "cells": [
  {
   "cell_type": "markdown",
   "metadata": {},
   "source": [
    "# <center>Script para corregir multiples problemas de muchos alumnos</center>\n",
    "A los alumnos se les dará un archivo \".py\" como el siguiente:\n",
    "\n",
    "    def problema_1(base,altura):\n",
    "        #Consigna: calcular el área de un triangulo\n",
    "    \n",
    "        # Aca debran escribir el codigo que cumpla con la consigna y la soluciuon debera estar en la variable \"area\"\n",
    "    \n",
    "        return(area)\n",
    "        \n",
    "    def problema_2(lado):\n",
    "        #Consigna: Calcular el area de un cuadrado\n",
    "        \n",
    "    return(area)\n",
    "    \n",
    "    def problema_3(edad):\n",
    "        #Consigna: decidir si una persona es mayor de edad o no devolviendo una variable booleana\n",
    "        \n",
    "    return(mayor) # Mayor será True si la edad es mayor o igual a 18.\n",
    "    \n",
    "    def problema_4(r,l):\n",
    "        #Consigna: decidir si un circulo de radio \"r\" entra dentro de un cuadrado de lado \"l\".\n",
    "    \n",
    "    return(entra) #entra es una variable que es True si el circulo entra en el cuadrado\n",
    "\n",
    "El archivo tiene que tener de nombre su nombre y apellido sin espacios pero con mayusculas y se puede agregar que al final tenga un \"_tp1.py\".\n",
    "Es importante que no se utilicen guiones medios o espacios. El script tolera acentos. por ejemplo \"MaríaAntonietaDeLasNieves_TP0.py\" es un nombre valido."
   ]
  },
  {
   "cell_type": "code",
   "execution_count": 1,
   "metadata": {},
   "outputs": [
    {
     "data": {
      "text/html": [
       "<style>.container { width:100% !important; } </style>"
      ],
      "text/plain": [
       "<IPython.core.display.HTML object>"
      ]
     },
     "metadata": {},
     "output_type": "display_data"
    }
   ],
   "source": [
    "import pandas as pd\n",
    "import glob\n",
    "#from neufipy import use_margin #Esta es una funcion que hice para un paquete privado que permite usar los margenes en jupyter notebook\n",
    "#use_margin()"
   ]
  },
  {
   "cell_type": "code",
   "execution_count": 17,
   "metadata": {},
   "outputs": [
    {
     "data": {
      "text/plain": [
       "['FranciscoIáconis_TP10.py',\n",
       " 'JuanCarlosBatman_TP2.py',\n",
       " 'JuanDelosPalotes_TP2.py',\n",
       " 'MariaAntonietaDelasNieves_TP2.py']"
      ]
     },
     "execution_count": 17,
     "metadata": {},
     "output_type": "execute_result"
    }
   ],
   "source": [
    "files_list = glob.glob('*.py')\n",
    "files_list"
   ]
  },
  {
   "cell_type": "code",
   "execution_count": 18,
   "metadata": {},
   "outputs": [],
   "source": [
    "def obt_name(s):\n",
    "    #s = files_list[1]\n",
    "    joint_name = s[:s.find('_')]\n",
    "    #print(name)\n",
    "    \n",
    "    for i,l in enumerate(joint_name):#s[1:-5]):\n",
    "        #print(l)\n",
    "        if l == l.upper():\n",
    "            name = joint_name.replace(l,' '+l)\n",
    "    return(name)\n",
    "\n",
    "def comp_res(r,alumno, nosotros):\n",
    "    if alumno == nosotros: # Comparo el resultado de ellos con lo que deberia dar\n",
    "        r = r and True # Si todos los intentos fueron correctos r va a ser True\n",
    "    else:\n",
    "        r = r and False #Si algun resultado fue incorrecto va a dar False\n",
    "    return(r)"
   ]
  },
  {
   "cell_type": "code",
   "execution_count": 19,
   "metadata": {},
   "outputs": [],
   "source": [
    "def correccion_prob_1():\n",
    "    def sol_real_1(b,h):\n",
    "        return(b*h/2)\n",
    "    \n",
    "    r = True\n",
    "    for b,h in zip ([3,4,65],[4,5,6]): # Recorro sobre una tubla de listas de las variables de entrada\n",
    "        try:\n",
    "            p1 = sol.problema_1(b,h) # Ejecuto su solucion\n",
    "            r = comp_res( r, p1, sol_real_1(b,h) )\n",
    "        except:\n",
    "            r = False\n",
    "    return(r)\n",
    "\n",
    "def correccion_prob_2():\n",
    "    def sol_real_2(l):\n",
    "        return(l**2)\n",
    "    \n",
    "    r = True\n",
    "    for l in [1,2,3,5,10,1.2]:\n",
    "        try:\n",
    "            p2 = sol.problema_2(l)\n",
    "            r = comp_res( r, p2, sol_real_2(l) )\n",
    "        except: \n",
    "            r = False\n",
    "    return(r)\n",
    "\n",
    "def correccion_prob_3():\n",
    "    def sol_real_3(e): #Esta seria una funcion hecha por nosotros que nos garantice el correcto resultado\n",
    "        return(e>=18)\n",
    "    \n",
    "    r = True\n",
    "    for e in [5,17,18,19,89]:\n",
    "        try:\n",
    "            p3 = sol.problema_3(e)\n",
    "            r = comp_res( r, p3, sol_real_3(e) )\n",
    "        except:\n",
    "            r = False\n",
    "    return(r)\n",
    "\n",
    "def correccion_prob_4():\n",
    "    def sol_real_4(r,l): #Esta seria una funcion hecha por nosotros que nos garantice el correcto resultado\n",
    "        return(2*r <=l)\n",
    "    \n",
    "    r = True\n",
    "    for r,l in zip([1,2,3,4,5,6],[6,5,4,3,2,1]):\n",
    "        try:\n",
    "            p4 = sol.problema_4(r,l)\n",
    "            r = comp_res( r, p4, sol_real_4(r,l) )\n",
    "        except:\n",
    "            r = False\n",
    "    return(r)"
   ]
  },
  {
   "cell_type": "code",
   "execution_count": 26,
   "metadata": {},
   "outputs": [],
   "source": [
    "corr_df = pd.DataFrame()\n",
    "corr_df_temp = pd.DataFrame()\n",
    "for f in files_list:\n",
    "    # print(f,obt_name(f))\n",
    "    corr_df_temp['Nombre'] = [obt_name(f)]\n",
    "    corr_df_temp['TP'] = [f[f.find('_')+1:-3].upper()] #le puse upper para que queden todos los \"TP\" en mayusculas\n",
    "    sol = __import__(f[:-3])\n",
    "    \n",
    "    #######\n",
    "    \n",
    "    r1 = correccion_prob_1()\n",
    "    corr_df_temp['Problema_1'] = [r1]\n",
    "    \n",
    "    r2 = correccion_prob_2()\n",
    "    corr_df_temp['Problema_2'] = [r2]\n",
    "    \n",
    "    r3 = correccion_prob_3()\n",
    "    corr_df_temp['Problema_3'] = [r3]\n",
    "    \n",
    "    r4 = correccion_prob_4()\n",
    "    corr_df_temp['Problema_4'] = [r4]\n",
    "    \n",
    "    #######\n",
    "    \n",
    "    \n",
    "    corr_df = pd.concat([corr_df,corr_df_temp],ignore_index = True)\n",
    "corr_df\n",
    "corr_df.to_csv('resultados.csv',index = False)"
   ]
  },
  {
   "cell_type": "code",
   "execution_count": null,
   "metadata": {},
   "outputs": [],
   "source": []
  }
 ],
 "metadata": {
  "kernelspec": {
   "display_name": "Python 3",
   "language": "python",
   "name": "python3"
  },
  "language_info": {
   "codemirror_mode": {
    "name": "ipython",
    "version": 3
   },
   "file_extension": ".py",
   "mimetype": "text/x-python",
   "name": "python",
   "nbconvert_exporter": "python",
   "pygments_lexer": "ipython3",
   "version": "3.8.4"
  }
 },
 "nbformat": 4,
 "nbformat_minor": 4
}
